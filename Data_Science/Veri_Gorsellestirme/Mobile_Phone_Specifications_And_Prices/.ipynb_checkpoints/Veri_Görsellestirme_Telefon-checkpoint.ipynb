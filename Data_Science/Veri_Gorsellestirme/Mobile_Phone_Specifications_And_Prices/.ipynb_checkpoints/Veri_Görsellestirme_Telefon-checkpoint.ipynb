{
 "cells": [
  {
   "cell_type": "markdown",
   "id": "7c421c63",
   "metadata": {},
   "source": [
    "# MOBILE PHONE SPECIFICATIONS AND PRICES"
   ]
  },
  {
   "cell_type": "markdown",
   "id": "b208582a",
   "metadata": {},
   "source": [
    "### Öncelikle incelediğim datasetinde birçok özelliğin fiyata etki ettiğini gördüm. Bu datasetinde ilk kolonun fiyata etkisi olmadığı için ve heatmap grafiğine olumsuz etki ettiği için  heatmap grafiğini kullandığım yerin üst kısmında datasetinden kaldırdım. Tercihen datasetinin yüklendiği zaman ilk iş olarak datasetinden kaldırılabilir ama ben heatmap grafiğine kadar kullandığım grafiklere bir etkisi olmadığından dolayı heatmap grafiğini kullandığım yerin üst kısmında datasettinden kaldırdım."
   ]
  },
  {
   "cell_type": "code",
   "execution_count": null,
   "id": "ee675f6e",
   "metadata": {},
   "outputs": [],
   "source": [
    "import numpy as np\n",
    "import pandas as pd\n",
    "import matplotlib.pyplot as plt\n",
    "import seaborn as sns"
   ]
  },
  {
   "cell_type": "code",
   "execution_count": null,
   "id": "4025567f",
   "metadata": {},
   "outputs": [],
   "source": [
    "df = pd.read_csv(\"ndtv_data_final.csv\") #Verimizi df değişkenine atadık. Veri tipi Dataframe"
   ]
  },
  {
   "cell_type": "code",
   "execution_count": null,
   "id": "1f167247",
   "metadata": {},
   "outputs": [],
   "source": [
    "df.head(10) # İlk 10 veri yazıldı."
   ]
  },
  {
   "cell_type": "code",
   "execution_count": null,
   "id": "7cb146eb",
   "metadata": {},
   "outputs": [],
   "source": [
    "df.dtypes #Kolonların veri tipleri incelendi."
   ]
  },
  {
   "cell_type": "code",
   "execution_count": null,
   "id": "7a12af2b",
   "metadata": {},
   "outputs": [],
   "source": [
    "df.shape # verinin boyutuna bakıldı. 1359 satır, 22 sütundan oluşuyor."
   ]
  },
  {
   "cell_type": "code",
   "execution_count": null,
   "id": "d4ee1a8d",
   "metadata": {},
   "outputs": [],
   "source": [
    "df.info() # verinin null değişkenin olup olmadığı kontrol edildi."
   ]
  },
  {
   "cell_type": "code",
   "execution_count": null,
   "id": "1b985c4a",
   "metadata": {},
   "outputs": [],
   "source": [
    "df.shape #Beklenildiği üzere boyutta değişme olmadı."
   ]
  },
  {
   "cell_type": "code",
   "execution_count": null,
   "id": "eb0d5cc6",
   "metadata": {},
   "outputs": [],
   "source": [
    "def data_pie(dataframe,column):\n",
    "    a=dataframe[column].value_counts()\n",
    "    liste=[x for x in a.index]\n",
    "    plt.figure(figsize=(6,4),dpi=100)\n",
    "    plt.pie(a,autopct=\"%1.2f%%\",labels=liste, shadow = True)\n",
    "    plt.legend(title=\"Seçenekler\",  loc=1)\n",
    "    plt.show()"
   ]
  },
  {
   "cell_type": "code",
   "execution_count": null,
   "id": "80276bd8",
   "metadata": {},
   "outputs": [],
   "source": [
    "data_pie(df,\"3G\") # 3G sütunun verilerinin pasta grafiğine dökülmesi. 3G destekleyen telefonların sayısi daha fazla."
   ]
  },
  {
   "cell_type": "code",
   "execution_count": null,
   "id": "c0426bf1",
   "metadata": {},
   "outputs": [],
   "source": [
    "data_pie(df,\"GPS\") # GPS sütunun verilerinin pasta grafiğine dökülmesi. GPS olan telefonların sayısı daha fazla."
   ]
  },
  {
   "cell_type": "code",
   "execution_count": null,
   "id": "a3f2aa19",
   "metadata": {},
   "outputs": [],
   "source": [
    "def data_bar(dataframe,column,n):\n",
    "    a=dataframe[column].value_counts()\n",
    "    a=a[:n]\n",
    "    plt.figure(figsize=(6,4),dpi=100)\n",
    "    plt.bar(a.index,a)\n",
    "    plt.xticks(a.index, a.index.values)\n",
    "    plt.xticks(rotation=40)\n",
    "    #plt.yticks(np.arange(0,1200,100)) # Y Ekseni için aralık belirleme\n",
    "    plt.ylabel(\"Frekans\")\n",
    "    plt.title(\"Veri Sıklığı - {}\".format(column))\n",
    "    plt.show()"
   ]
  },
  {
   "cell_type": "code",
   "execution_count": null,
   "id": "296fbea1",
   "metadata": {},
   "outputs": [],
   "source": [
    "for x in [\"Brand\",\"Operating system\",\"Number of SIMs\"]:\n",
    "    data_bar(df,x,3)\n",
    "    \"\"\"\n",
    "    Her değişkenin ilk 3 yani ( en çok olan 3 değeri ) baz alınmıştır.\n",
    "    -Brand özelliği Intex olanların telefonların sayısının en fazla olduğu\n",
    "    -Operating system özelliği Android olan telefonların sayısının en fazla olduğu\n",
    "    -Number of SIMs özelliği 2 olan telefonların sayısının en fazla olduğu\n",
    "    grafiler aracılığıyla görülmüştür.\n",
    "    \"\"\""
   ]
  },
  {
   "cell_type": "code",
   "execution_count": null,
   "id": "1dcb078e",
   "metadata": {},
   "outputs": [],
   "source": [
    "df[df[\"Brand\"]==\"Intex\"].value_counts() # Brand özelliği Intex olanların sayısını öğrenmek için."
   ]
  },
  {
   "cell_type": "code",
   "execution_count": null,
   "id": "594507c3",
   "metadata": {},
   "outputs": [],
   "source": [
    "plt.figure(figsize=(8,6))\n",
    "sns.lineplot(data=df,x=\"Screen size (inches)\",y=\"Price\",hue=\"Operating system\")\n",
    "\"\"\"\n",
    "İşletim sistemi farketmeksizin fiyatın ekran boyutuyla doğru orantıda olmadığı açık. Ama tabi yine bazı yerlerde \n",
    "etkisi görülebiliyor lakin kesin bir sonuc çıkaramayız.\n",
    "\"\"\""
   ]
  },
  {
   "cell_type": "code",
   "execution_count": null,
   "id": "f2e89b0f",
   "metadata": {},
   "outputs": [],
   "source": [
    "def data_hist(df,*colon):\n",
    "    for i in colon:\n",
    "        plt.figure(figsize=(8,6))\n",
    "        sns.histplot(data=df[i], bins=75, color = \"red\")\n",
    "        plt.title(i)"
   ]
  },
  {
   "cell_type": "code",
   "execution_count": null,
   "id": "84a23e3c",
   "metadata": {},
   "outputs": [],
   "source": [
    "data_hist(df,\"Battery capacity (mAh)\",\"Price\",\"Screen size (inches)\")\n",
    "\"\"\"\n",
    "HistPlot ile istenilen sütunda hangi veriden kaç tane var bilgisine varılmıştır.\n",
    "\"\"\""
   ]
  },
  {
   "cell_type": "code",
   "execution_count": null,
   "id": "6bf00163",
   "metadata": {},
   "outputs": [],
   "source": [
    "df=df.iloc[:,1:]\n",
    "plt.figure(figsize=(8,6))\n",
    "sns.heatmap(df.corr(method='pearson').drop([], axis=1).drop([], axis=0),annot = True)\n",
    "plt.show()\n",
    "\"\"\"\n",
    "-Grafikte batarya ve ekran boyutu arasında güçlü pozitif bir korelasyon var.\n",
    "-Ram ve internal storage arasında da güçlü pozitif bir korelasyon var.\n",
    "-Resolution y ile Ram arasında da güçlü pozitif bir korelasyon var.\n",
    "-Number of SIMs ile Ram arasında çok zayıf negatif bir korelasyon var. (Yok denilecek kadar az)\n",
    "-Number of SIMs ile internal storage arasında çok zayıf pozitif bir korelasyon var. (Yok denilecek kadar az)\n",
    "\"\"\""
   ]
  },
  {
   "cell_type": "code",
   "execution_count": null,
   "id": "d53e4b34",
   "metadata": {},
   "outputs": [],
   "source": [
    "A=df[df[\"Operating system\"]==\"Android\"]"
   ]
  },
  {
   "cell_type": "code",
   "execution_count": null,
   "id": "60448d39",
   "metadata": {},
   "outputs": [],
   "source": [
    "B=df[df[\"Operating system\"]==\"iOS\"]"
   ]
  },
  {
   "cell_type": "code",
   "execution_count": null,
   "id": "1d3de6fc",
   "metadata": {},
   "outputs": [],
   "source": [
    "plt.figure(figsize=(8,6))\n",
    "plt.scatter(x=A[\"Price\"],y=A[\"RAM (MB)\"],alpha =0.4, label= \"Anroid\",color=\"red\")\n",
    "plt.scatter(x=B[\"Price\"],y=B[\"RAM (MB)\"],alpha =0.8, label= \"iOS\",color=\"black\")\n",
    "plt.xlabel(\"Price\")\n",
    "plt.ylabel(\"RAM\")\n",
    "plt.title(\"RAM ile Price Arasındaki İlişki\",color=\"#ba4711\")\n",
    "plt.legend(loc=0,title=\"Seçenekler\",title_fontsize = 12)\n",
    "plt.show()\n",
    "\"\"\"\n",
    "ANDROID VE IOS İŞLETİM SİSTEMLERİ ÜZERİNDE RAM VE PRICE ARASINDAKİ İLİŞKİ İNCELENDİ. RAM ARTTIKÇA MAX FİYATTADA\n",
    "ARTMALAR OLUYOR.\n",
    "\"\"\""
   ]
  },
  {
   "cell_type": "code",
   "execution_count": null,
   "id": "ab7b7071",
   "metadata": {},
   "outputs": [],
   "source": [
    "plt.figure(figsize=(1,7))\n",
    "plt.xticks(rotation=90)\n",
    "a=df[df[\"Operating system\"]==\"iOS\"]\n",
    "sns.boxplot(x=a[\"Operating system\"],y=df[\"Price\"])\n",
    "plt.xlabel(\"\")\n",
    "plt.show()\n",
    "\"\"\"\n",
    "-Eğik-Pozitif olarak sınıflandırabileceğimiz bir dağılımdır. 1. kartil 25000, 2.kartil(medyan) 37000 3.kartil 63000\n",
    "civarundadır.\n",
    "\"\"\""
   ]
  },
  {
   "cell_type": "code",
   "execution_count": null,
   "id": "ff1503d5",
   "metadata": {},
   "outputs": [],
   "source": [
    "sns.jointplot(data=df, x=\"Battery capacity (mAh)\",y=\"Price\") \n",
    "\"\"\"\n",
    "Jointplot grafiği scatter grafiği ile histogram grafiğini birleştirek bize iki kolon (batarya kapasitesi ve fiyat)\n",
    "arasında bilgi veriyor. Grafikte de görüldüğü üzere batarya kapasitesinin artmasının fiyatta doğru orantıda\n",
    "bir etkisi olmuyor ama bunun en büyük sebeblerinden biri diğer değişkenlerin de fiyata etkileri olduğundan dolayı.\n",
    "\"\"\""
   ]
  },
  {
   "cell_type": "code",
   "execution_count": null,
   "id": "7b3b1275",
   "metadata": {},
   "outputs": [],
   "source": []
  }
 ],
 "metadata": {
  "kernelspec": {
   "display_name": "Python 3 (ipykernel)",
   "language": "python",
   "name": "python3"
  },
  "language_info": {
   "codemirror_mode": {
    "name": "ipython",
    "version": 3
   },
   "file_extension": ".py",
   "mimetype": "text/x-python",
   "name": "python",
   "nbconvert_exporter": "python",
   "pygments_lexer": "ipython3",
   "version": "3.7.11"
  }
 },
 "nbformat": 4,
 "nbformat_minor": 5
}
