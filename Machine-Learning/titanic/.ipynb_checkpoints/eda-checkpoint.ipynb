{
 "cells": [
  {
   "cell_type": "code",
   "execution_count": 9,
   "id": "526dca50",
   "metadata": {},
   "outputs": [],
   "source": [
    "import numpy as np\n",
    "import pandas as pd\n",
    "import matplotlib.pyplot as plt \n",
    "import seaborn as sns"
   ]
  },
  {
   "cell_type": "code",
   "execution_count": 10,
   "id": "662dbac4",
   "metadata": {},
   "outputs": [],
   "source": [
    "#DATAFRAME İNCELEME METHODU\n",
    "def info(df):\n",
    "    print(df.info())\n",
    "    \n",
    "def head(df,headdd=5):\n",
    "    print(df.head(headdd))\n",
    "\n",
    "def tail(df,taiil):\n",
    "    print(df.tail(taiil))\n",
    "    \n",
    "def describe(df):\n",
    "    print(df.describe())\n",
    "\n",
    "def describeT(df):\n",
    "    print(df.describe().T)\n",
    "\n",
    "def shape(df):\n",
    "    print(df.shape)\n",
    "\n",
    "def columns(df):\n",
    "    print(df.columns)"
   ]
  },
  {
   "cell_type": "code",
   "execution_count": 4,
   "id": "4518a8e5",
   "metadata": {},
   "outputs": [],
   "source": []
  }
 ],
 "metadata": {
  "kernelspec": {
   "display_name": "Python 3 (ipykernel)",
   "language": "python",
   "name": "python3"
  },
  "language_info": {
   "codemirror_mode": {
    "name": "ipython",
    "version": 3
   },
   "file_extension": ".py",
   "mimetype": "text/x-python",
   "name": "python",
   "nbconvert_exporter": "python",
   "pygments_lexer": "ipython3",
   "version": "3.7.11"
  }
 },
 "nbformat": 4,
 "nbformat_minor": 5
}
